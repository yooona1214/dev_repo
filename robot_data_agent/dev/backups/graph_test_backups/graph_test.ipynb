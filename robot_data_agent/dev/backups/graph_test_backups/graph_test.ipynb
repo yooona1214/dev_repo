{
 "cells": [
  {
   "cell_type": "code",
   "execution_count": 1,
   "metadata": {},
   "outputs": [
    {
     "data": {
      "text/plain": [
       "True"
      ]
     },
     "execution_count": 1,
     "metadata": {},
     "output_type": "execute_result"
    }
   ],
   "source": [
    "import numpy as np\n",
    "import pandas as pd\n",
    "from neo4j_runway import Discovery, GraphDataModeler, IngestionGenerator, LLM, PyIngest\n",
    "from IPython.display import display, Markdown, Image\n",
    "import os\n",
    "from dotenv import load_dotenv\n",
    "from langchain_openai import ChatOpenAI\n",
    "\n",
    "load_dotenv()"
   ]
  },
  {
   "cell_type": "code",
   "execution_count": 2,
   "metadata": {},
   "outputs": [],
   "source": [
    "\n",
    "\n",
    "OPENAI_API_KEY = os.getenv(\"OPENAI_API_KEY\")\n",
    "os.environ[\"LANGCHAIN_TRACING_V2\"] = \"true\"\n",
    "os.environ[\"LANGCHAIN_PROJECT\"] = \"Multi-agent Collaboration\"\n",
    "os.environ[\"LANGCHAIN_ENDPOINT\"] = \"https://api.smith.langchain.com\"\n",
    "os.environ[\"LANGCHAIN_API_KEY\"] = \"ls__3b0b4639413547b1992222420ad58d30\"\n",
    "os.environ[\"GPT_MODEL\"] = \"gpt-3.5-turbo\"\n",
    "\n",
    "# Neo4j 연결 정보 설정\n",
    "NEO4J_URL = os.environ[\"NEO4J_URI\"] = \"neo4j+s://9bb7f8ec.databases.neo4j.io\"\n",
    "NEO4J_ID = os.environ[\"NEO4J_USERNAME\"] = \"neo4j\"\n",
    "NEO4J_PASSWORD = os.environ[\"NEO4J_PASSWORD\"] = (\n",
    "    \"6divqnk_LBw-7zrAsvxNXvVCirJwboIbfSnU0FSYkCw\"\n",
    ")\n",
    "csv_file1 = \"/home/rbrain/data_agent/data/LG0429_.csv\"\n",
    "\n",
    "test_df = pd.read_csv(csv_file1)"
   ]
  },
  {
   "cell_type": "code",
   "execution_count": 3,
   "metadata": {},
   "outputs": [
    {
     "name": "stderr",
     "output_type": "stream",
     "text": [
      "/home/rbrain/miniconda3/envs/data_agent_test/lib/python3.12/site-packages/neo4j_runway/discovery/discovery.py:49: UserWarning: user_input should include key:value pair {general_description: ...} for best results. Found keys dict_keys(['충돌을 나타내는 고객의 발화', '충돌의 원인', '조치 방안', '자가조치 가능여부', '자가조치 시 매뉴얼 참조여부', '자가조치 참조방법', '출동 필요여부', '출동 담당업체'])\n",
      "  warnings.warn(\n"
     ]
    },
    {
     "data": {
      "text/markdown": [
       "Based on the provided summary of the data, here is a preliminary analysis:\n",
       "\n",
       "### Overall Details:\n",
       "1. **Data Structure**:\n",
       "   - The dataset consists of 10 entries and 8 columns.\n",
       "   - All columns are of type `object`, indicating that they contain categorical data or text.\n",
       "\n",
       "2. **Missing Values**:\n",
       "   - There are no missing values in the dataset, which is beneficial for analysis and modeling.\n",
       "\n",
       "3. **Unique Values**:\n",
       "   - The number of unique values varies across columns, indicating different levels of variability in the data.\n",
       "\n",
       "### Feature Analysis:\n",
       "1. **충돌을 나타내는 고객의 발화 (Customer's Utterance Indicating Collision)**:\n",
       "   - Unique values: 9\n",
       "   - Most frequent value: \"룸 진입 시 충돌 위험\" (2 occurrences)\n",
       "   - This feature captures the customer's description of the collision symptoms, which is crucial for understanding the context of the issue.\n",
       "\n",
       "2. **충돌의 원인 (Cause of Collision)**:\n",
       "   - Unique values: 7\n",
       "   - Most frequent value: \"자율주행 오류(멈춤, 금지구역침범 등)\" (2 occurrences)\n",
       "   - This feature identifies the cause of the collision, which is essential for diagnosing the problem.\n",
       "\n",
       "3. **조치 방안 (Action Plan)**:\n",
       "   - Unique values: 7\n",
       "   - Most frequent value: \"맵 수정 (금지구역 및 Node 수정 등)\" (2 occurrences)\n",
       "   - This feature outlines the action plan to resolve the collision issue, which is important for determining the solution.\n",
       "\n",
       "4. **자가조치 가능여부 (Self-Action Feasibility)**:\n",
       "   - Unique values: 2 (True/False)\n",
       "   - Most frequent value: False (7 occurrences)\n",
       "   - This feature indicates whether the customer can resolve the issue themselves, which is critical for understanding the need for external assistance.\n",
       "\n",
       "5. **자가조치 시 매뉴얼 참조여부 (Manual Reference for Self-Action)**:\n",
       "   - Unique values: 2 (True/False)\n",
       "   - Most frequent value: False (7 occurrences)\n",
       "   - This feature shows whether the customer needs to refer to a manual for self-action, which is relevant for support documentation.\n",
       "\n",
       "6. **자가조치 참조방법 (Self-Action Reference Method)**:\n",
       "   - Unique values: 3\n",
       "   - Most frequent value: \"nan\" (7 occurrences)\n",
       "   - This feature describes the method for self-action, but the high frequency of \"nan\" suggests that this information is often not provided or not applicable.\n",
       "\n",
       "7. **출동 필요여부 (Need for On-Site Assistance)**:\n",
       "   - Unique values: 2 (True/False)\n",
       "   - Most frequent value: True (7 occurrences)\n",
       "   - This feature indicates whether on-site assistance is required, which is important for resource allocation.\n",
       "\n",
       "8. **출동 담당업체 (On-Site Assistance Provider)**:\n",
       "   - Unique values: 3\n",
       "   - Most frequent value: \"KT\" (4 occurrences)\n",
       "   - This feature identifies the service provider for on-site assistance, which is useful for operational logistics.\n",
       "\n",
       "### Important Features:\n",
       "1. **충돌을 나타내는 고객의 발화 (Customer's Utterance Indicating Collision)**: Provides context and initial description of the issue.\n",
       "2. **충돌의 원인 (Cause of Collision)**: Essential for diagnosing the problem.\n",
       "3. **조치 방안 (Action Plan)**: Critical for determining the solution.\n",
       "4. **자가조치 가능여부 (Self-Action Feasibility)**: Indicates the need for external assistance.\n",
       "5. **출동 필요여부 (Need for On-Site Assistance)**: Important for resource allocation and operational planning.\n",
       "\n",
       "### Summary:\n",
       "The dataset provides a comprehensive view of collision issues reported by customers, including their descriptions, causes, and action plans. The features related to self-action feasibility and the need for on-site assistance are particularly important for operational decision-making. The variability in the data suggests that there are multiple types of issues and solutions, which could be further explored in a detailed analysis."
      ],
      "text/plain": [
       "<IPython.core.display.Markdown object>"
      ]
     },
     "metadata": {},
     "output_type": "display_data"
    }
   ],
   "source": [
    "\n",
    "test_df.columns = test_df.columns.str.strip()\n",
    "for i in test_df.columns:\n",
    "    test_df[i] = test_df[i].astype(str)\n",
    "test_df.to_csv(\"/home/rbrain/data_agent/data/LG0429_prepared.csv\", index=False)\n",
    "\n",
    "DATA_DESCRIPTION = {\n",
    "    \"충돌을 나타내는 고객의 발화\": \"고객이 충돌 증상에 대해 표현한 발화\",\n",
    "    \"충돌의 원인\": \"고객의 충돌 증상에 대한 원인을 표현한 말\",\n",
    "    \"조치 방안\": \"고객의 충돌 증상에 대한 원인을 해결하기 위한 조치 방안\",\n",
    "    \"자가조치 가능여부\": \"고객이 충돌 증상에 대한 원인을 스스로 조치 가능한지에 대한 여부(True/False)\",\n",
    "    \"자가조치 시 매뉴얼 참조여부\": \"고객이 스스로 조치 시, 매뉴얼을 참조해야 하는지에 대한 여부(True/False)\",\n",
    "    \"자가조치 참조방법\": \"고객이 스스로 조치 할 때, 어떤 방법을 사용해야하는지에 대한 설명\",\n",
    "    \"출동 필요여부\": \"고객이 스스로 조치가 불가능하여, AS직원 출동 필요 여부(True/False)\",\n",
    "    \"출동 담당업체\": \"AS출동 담당 업체에 대한 설명\",\n",
    "}\n",
    "llm = LLM(model=\"gpt-4o\")\n",
    "\n",
    "disc = Discovery(llm=llm, user_input=DATA_DESCRIPTION, data=test_df)\n",
    "disc.run()"
   ]
  },
  {
   "cell_type": "code",
   "execution_count": 4,
   "metadata": {},
   "outputs": [
    {
     "name": "stdout",
     "output_type": "stream",
     "text": [
      "recieved a valid response\n"
     ]
    },
    {
     "data": {
      "image/svg+xml": [
       "<?xml version=\"1.0\" encoding=\"UTF-8\" standalone=\"no\"?>\n",
       "<!DOCTYPE svg PUBLIC \"-//W3C//DTD SVG 1.1//EN\"\n",
       " \"http://www.w3.org/Graphics/SVG/1.1/DTD/svg11.dtd\">\n",
       "<!-- Generated by graphviz version 2.43.0 (0)\n",
       " -->\n",
       "<!-- Title: %3 Pages: 1 -->\n",
       "<svg width=\"961pt\" height=\"848pt\"\n",
       " viewBox=\"0.00 0.00 960.56 848.48\" xmlns=\"http://www.w3.org/2000/svg\" xmlns:xlink=\"http://www.w3.org/1999/xlink\">\n",
       "<g id=\"graph0\" class=\"graph\" transform=\"scale(1 1) rotate(0) translate(4 844.48)\">\n",
       "<title>%3</title>\n",
       "<polygon fill=\"white\" stroke=\"transparent\" points=\"-4,4 -4,-844.48 956.56,-844.48 956.56,4 -4,4\"/>\n",
       "<!-- CustomerUtterance -->\n",
       "<g id=\"node1\" class=\"node\">\n",
       "<title>CustomerUtterance</title>\n",
       "<ellipse fill=\"none\" stroke=\"black\" cx=\"512.48\" cy=\"-791.69\" rx=\"238.09\" ry=\"48.58\"/>\n",
       "<text text-anchor=\"middle\" x=\"512.48\" y=\"-810.99\" font-family=\"Times,serif\" font-size=\"14.00\">CustomerUtterance</text>\n",
       "<text text-anchor=\"middle\" x=\"512.48\" y=\"-779.99\" font-family=\"Times,serif\" font-size=\"14.00\">properties:</text>\n",
       "<text text-anchor=\"middle\" x=\"512.48\" y=\"-764.99\" font-family=\"Times,serif\" font-size=\"14.00\">utterance: 충돌을 나타내는 고객의 발화 *unique*</text>\n",
       "</g>\n",
       "<!-- CollisionCause -->\n",
       "<g id=\"node2\" class=\"node\">\n",
       "<title>CollisionCause</title>\n",
       "<ellipse fill=\"none\" stroke=\"black\" cx=\"512.48\" cy=\"-643.11\" rx=\"144.91\" ry=\"48.58\"/>\n",
       "<text text-anchor=\"middle\" x=\"512.48\" y=\"-662.41\" font-family=\"Times,serif\" font-size=\"14.00\">CollisionCause</text>\n",
       "<text text-anchor=\"middle\" x=\"512.48\" y=\"-631.41\" font-family=\"Times,serif\" font-size=\"14.00\">properties:</text>\n",
       "<text text-anchor=\"middle\" x=\"512.48\" y=\"-616.41\" font-family=\"Times,serif\" font-size=\"14.00\">cause: 충돌의 원인 *unique*</text>\n",
       "</g>\n",
       "<!-- CustomerUtterance&#45;&gt;CollisionCause -->\n",
       "<g id=\"edge1\" class=\"edge\">\n",
       "<title>CustomerUtterance&#45;&gt;CollisionCause</title>\n",
       "<path fill=\"none\" stroke=\"black\" d=\"M512.48,-742.7C512.48,-729.72 512.48,-715.54 512.48,-702.09\"/>\n",
       "<polygon fill=\"black\" stroke=\"black\" points=\"515.98,-701.97 512.48,-691.97 508.98,-701.97 515.98,-701.97\"/>\n",
       "<text text-anchor=\"middle\" x=\"554.48\" y=\"-713.7\" font-family=\"Times,serif\" font-size=\"14.00\">INDICATES</text>\n",
       "</g>\n",
       "<!-- ActionPlan -->\n",
       "<g id=\"node3\" class=\"node\">\n",
       "<title>ActionPlan</title>\n",
       "<ellipse fill=\"none\" stroke=\"black\" cx=\"512.48\" cy=\"-494.53\" rx=\"128.89\" ry=\"48.58\"/>\n",
       "<text text-anchor=\"middle\" x=\"512.48\" y=\"-513.83\" font-family=\"Times,serif\" font-size=\"14.00\">ActionPlan</text>\n",
       "<text text-anchor=\"middle\" x=\"512.48\" y=\"-482.83\" font-family=\"Times,serif\" font-size=\"14.00\">properties:</text>\n",
       "<text text-anchor=\"middle\" x=\"512.48\" y=\"-467.83\" font-family=\"Times,serif\" font-size=\"14.00\">plan: 조치 방안 *unique*</text>\n",
       "</g>\n",
       "<!-- CollisionCause&#45;&gt;ActionPlan -->\n",
       "<g id=\"edge2\" class=\"edge\">\n",
       "<title>CollisionCause&#45;&gt;ActionPlan</title>\n",
       "<path fill=\"none\" stroke=\"black\" d=\"M512.48,-594.12C512.48,-581.14 512.48,-566.96 512.48,-553.51\"/>\n",
       "<polygon fill=\"black\" stroke=\"black\" points=\"515.98,-553.39 512.48,-543.39 508.98,-553.39 515.98,-553.39\"/>\n",
       "<text text-anchor=\"middle\" x=\"552.48\" y=\"-565.12\" font-family=\"Times,serif\" font-size=\"14.00\">RESOLVES</text>\n",
       "</g>\n",
       "<!-- SelfAction -->\n",
       "<g id=\"node4\" class=\"node\">\n",
       "<title>SelfAction</title>\n",
       "<ellipse fill=\"none\" stroke=\"black\" cx=\"297.48\" cy=\"-345.95\" rx=\"194.41\" ry=\"48.58\"/>\n",
       "<text text-anchor=\"middle\" x=\"297.48\" y=\"-365.25\" font-family=\"Times,serif\" font-size=\"14.00\">SelfAction</text>\n",
       "<text text-anchor=\"middle\" x=\"297.48\" y=\"-334.25\" font-family=\"Times,serif\" font-size=\"14.00\">properties:</text>\n",
       "<text text-anchor=\"middle\" x=\"297.48\" y=\"-319.25\" font-family=\"Times,serif\" font-size=\"14.00\">feasibility: 자가조치 가능여부 *unique*</text>\n",
       "</g>\n",
       "<!-- ActionPlan&#45;&gt;SelfAction -->\n",
       "<g id=\"edge3\" class=\"edge\">\n",
       "<title>ActionPlan&#45;&gt;SelfAction</title>\n",
       "<path fill=\"none\" stroke=\"black\" d=\"M450.87,-451.53C426.34,-434.81 397.89,-415.41 372.2,-397.9\"/>\n",
       "<polygon fill=\"black\" stroke=\"black\" points=\"373.84,-394.78 363.61,-392.04 369.9,-400.56 373.84,-394.78\"/>\n",
       "<text text-anchor=\"middle\" x=\"488.98\" y=\"-416.54\" font-family=\"Times,serif\" font-size=\"14.00\">CAN_SELF_RESOLVE</text>\n",
       "</g>\n",
       "<!-- OnSiteAssistance -->\n",
       "<g id=\"node7\" class=\"node\">\n",
       "<title>OnSiteAssistance</title>\n",
       "<ellipse fill=\"none\" stroke=\"black\" cx=\"735.48\" cy=\"-345.95\" rx=\"217.16\" ry=\"48.58\"/>\n",
       "<text text-anchor=\"middle\" x=\"735.48\" y=\"-365.25\" font-family=\"Times,serif\" font-size=\"14.00\">OnSiteAssistance</text>\n",
       "<text text-anchor=\"middle\" x=\"735.48\" y=\"-334.25\" font-family=\"Times,serif\" font-size=\"14.00\">properties:</text>\n",
       "<text text-anchor=\"middle\" x=\"735.48\" y=\"-319.25\" font-family=\"Times,serif\" font-size=\"14.00\">assistanceNeeded: 출동 필요여부 *unique*</text>\n",
       "</g>\n",
       "<!-- ActionPlan&#45;&gt;OnSiteAssistance -->\n",
       "<g id=\"edge6\" class=\"edge\">\n",
       "<title>ActionPlan&#45;&gt;OnSiteAssistance</title>\n",
       "<path fill=\"none\" stroke=\"black\" d=\"M575.79,-451.92C601.35,-435.12 631.09,-415.57 657.94,-397.92\"/>\n",
       "<polygon fill=\"black\" stroke=\"black\" points=\"660.11,-400.68 666.54,-392.26 656.26,-394.83 660.11,-400.68\"/>\n",
       "<text text-anchor=\"middle\" x=\"709.98\" y=\"-416.54\" font-family=\"Times,serif\" font-size=\"14.00\">NEEDS_ASSISTANCE</text>\n",
       "</g>\n",
       "<!-- ManualReference -->\n",
       "<g id=\"node5\" class=\"node\">\n",
       "<title>ManualReference</title>\n",
       "<ellipse fill=\"none\" stroke=\"black\" cx=\"276.48\" cy=\"-197.37\" rx=\"276.46\" ry=\"48.58\"/>\n",
       "<text text-anchor=\"middle\" x=\"276.48\" y=\"-216.67\" font-family=\"Times,serif\" font-size=\"14.00\">ManualReference</text>\n",
       "<text text-anchor=\"middle\" x=\"276.48\" y=\"-185.67\" font-family=\"Times,serif\" font-size=\"14.00\">properties:</text>\n",
       "<text text-anchor=\"middle\" x=\"276.48\" y=\"-170.67\" font-family=\"Times,serif\" font-size=\"14.00\">referenceNeeded: 자가조치 시 매뉴얼 참조여부 *unique*</text>\n",
       "</g>\n",
       "<!-- SelfAction&#45;&gt;ManualReference -->\n",
       "<g id=\"edge4\" class=\"edge\">\n",
       "<title>SelfAction&#45;&gt;ManualReference</title>\n",
       "<path fill=\"none\" stroke=\"black\" d=\"M290.6,-296.96C288.74,-283.98 286.71,-269.8 284.78,-256.34\"/>\n",
       "<polygon fill=\"black\" stroke=\"black\" points=\"288.22,-255.63 283.33,-246.22 281.29,-256.62 288.22,-255.63\"/>\n",
       "<text text-anchor=\"middle\" x=\"351.98\" y=\"-267.96\" font-family=\"Times,serif\" font-size=\"14.00\">NEEDS_MANUAL</text>\n",
       "</g>\n",
       "<!-- ReferenceMethod -->\n",
       "<g id=\"node6\" class=\"node\">\n",
       "<title>ReferenceMethod</title>\n",
       "<ellipse fill=\"none\" stroke=\"black\" cx=\"276.48\" cy=\"-48.79\" rx=\"183.28\" ry=\"48.58\"/>\n",
       "<text text-anchor=\"middle\" x=\"276.48\" y=\"-68.09\" font-family=\"Times,serif\" font-size=\"14.00\">ReferenceMethod</text>\n",
       "<text text-anchor=\"middle\" x=\"276.48\" y=\"-37.09\" font-family=\"Times,serif\" font-size=\"14.00\">properties:</text>\n",
       "<text text-anchor=\"middle\" x=\"276.48\" y=\"-22.09\" font-family=\"Times,serif\" font-size=\"14.00\">method: 자가조치 참조방법 *unique*</text>\n",
       "</g>\n",
       "<!-- ManualReference&#45;&gt;ReferenceMethod -->\n",
       "<g id=\"edge5\" class=\"edge\">\n",
       "<title>ManualReference&#45;&gt;ReferenceMethod</title>\n",
       "<path fill=\"none\" stroke=\"black\" d=\"M276.48,-148.38C276.48,-135.4 276.48,-121.22 276.48,-107.76\"/>\n",
       "<polygon fill=\"black\" stroke=\"black\" points=\"279.98,-107.64 276.48,-97.64 272.98,-107.64 279.98,-107.64\"/>\n",
       "<text text-anchor=\"middle\" x=\"335.48\" y=\"-119.38\" font-family=\"Times,serif\" font-size=\"14.00\">USES_METHOD</text>\n",
       "</g>\n",
       "<!-- ServiceProvider -->\n",
       "<g id=\"node8\" class=\"node\">\n",
       "<title>ServiceProvider</title>\n",
       "<ellipse fill=\"none\" stroke=\"black\" cx=\"739.48\" cy=\"-197.37\" rx=\"169\" ry=\"48.58\"/>\n",
       "<text text-anchor=\"middle\" x=\"739.48\" y=\"-216.67\" font-family=\"Times,serif\" font-size=\"14.00\">ServiceProvider</text>\n",
       "<text text-anchor=\"middle\" x=\"739.48\" y=\"-185.67\" font-family=\"Times,serif\" font-size=\"14.00\">properties:</text>\n",
       "<text text-anchor=\"middle\" x=\"739.48\" y=\"-170.67\" font-family=\"Times,serif\" font-size=\"14.00\">provider: 출동 담당업체 *unique*</text>\n",
       "</g>\n",
       "<!-- OnSiteAssistance&#45;&gt;ServiceProvider -->\n",
       "<g id=\"edge7\" class=\"edge\">\n",
       "<title>OnSiteAssistance&#45;&gt;ServiceProvider</title>\n",
       "<path fill=\"none\" stroke=\"black\" d=\"M736.79,-296.96C737.14,-283.98 737.53,-269.8 737.9,-256.34\"/>\n",
       "<polygon fill=\"black\" stroke=\"black\" points=\"741.4,-256.32 738.17,-246.22 734.4,-256.13 741.4,-256.32\"/>\n",
       "<text text-anchor=\"middle\" x=\"791.48\" y=\"-267.96\" font-family=\"Times,serif\" font-size=\"14.00\">PROVIDED_BY</text>\n",
       "</g>\n",
       "</g>\n",
       "</svg>\n"
      ],
      "text/plain": [
       "<graphviz.graphs.Digraph at 0x7fe4560e6180>"
      ]
     },
     "execution_count": 4,
     "metadata": {},
     "output_type": "execute_result"
    }
   ],
   "source": [
    "\n",
    "# instantiate graph data modeler\n",
    "gdm = GraphDataModeler(llm=llm, discovery=disc)\n",
    "\n",
    "# generate model\n",
    "gdm.create_initial_model()\n",
    "\n",
    "# visualize the data model\n",
    "gdm.current_model.visualize()"
   ]
  },
  {
   "cell_type": "code",
   "execution_count": 5,
   "metadata": {},
   "outputs": [],
   "source": [
    "# instantiate ingestion generator\n",
    "gen = IngestionGenerator(data_model=gdm.current_model, \n",
    "                         username=\"neo4j\", \n",
    "                         password=NEO4J_PASSWORD,\n",
    "                         uri=NEO4J_URL,\n",
    "                         database=\"neo4j\", \n",
    "                         csv_dir=\"/home/rbrain/data_agent/data\", \n",
    "                         csv_name=\"LG0429_prepared.csv\")\n",
    "\n",
    "# create ingestion YAML \n",
    "pyingest_yaml = gen.generate_pyingest_yaml_string()\n",
    "\n",
    "# save local copy of YAML\n",
    "gen.generate_pyingest_yaml_file(file_name=\"LG0429_prepared\")"
   ]
  },
  {
   "cell_type": "code",
   "execution_count": 6,
   "metadata": {},
   "outputs": [
    {
     "name": "stderr",
     "output_type": "stream",
     "text": [
      "/home/rbrain/miniconda3/envs/data_agent_test/lib/python3.12/site-packages/neo4j_runway/ingestion/pyingest.py:159: UserWarning: the yaml_string parameter will be depreciated in future releases. Please use the 'config' kwarg to identify the YAML file instead.\n",
      "  warnings.warn(\n"
     ]
    },
    {
     "name": "stdout",
     "output_type": "stream",
     "text": [
      "File {} .///home/rbrain/data_agent/dataLG0429_prepared.csv\n",
      "loading... 0 2024-07-15 10:35:14.177391\n"
     ]
    },
    {
     "name": "stderr",
     "output_type": "stream",
     "text": [
      "/home/rbrain/miniconda3/envs/data_agent_test/lib/python3.12/site-packages/numpy/core/fromnumeric.py:59: FutureWarning: 'DataFrame.swapaxes' is deprecated and will be removed in a future version. Please use 'DataFrame.transpose' instead.\n",
      "  return bound(*args, **kwds)\n"
     ]
    },
    {
     "name": "stdout",
     "output_type": "stream",
     "text": [
      "{} : Completed file 2024-07-15 10:35:14.404649\n",
      "File {} .///home/rbrain/data_agent/dataLG0429_prepared.csv\n",
      "loading... 0 2024-07-15 10:35:14.406213\n",
      "{} : Completed file 2024-07-15 10:35:14.554997\n",
      "File {} .///home/rbrain/data_agent/dataLG0429_prepared.csv\n",
      "loading... 0 2024-07-15 10:35:14.556069\n"
     ]
    },
    {
     "name": "stderr",
     "output_type": "stream",
     "text": [
      "/home/rbrain/miniconda3/envs/data_agent_test/lib/python3.12/site-packages/numpy/core/fromnumeric.py:59: FutureWarning: 'DataFrame.swapaxes' is deprecated and will be removed in a future version. Please use 'DataFrame.transpose' instead.\n",
      "  return bound(*args, **kwds)\n",
      "/home/rbrain/miniconda3/envs/data_agent_test/lib/python3.12/site-packages/numpy/core/fromnumeric.py:59: FutureWarning: 'DataFrame.swapaxes' is deprecated and will be removed in a future version. Please use 'DataFrame.transpose' instead.\n",
      "  return bound(*args, **kwds)\n"
     ]
    },
    {
     "name": "stdout",
     "output_type": "stream",
     "text": [
      "{} : Completed file 2024-07-15 10:35:14.702068\n",
      "File {} .///home/rbrain/data_agent/dataLG0429_prepared.csv\n",
      "loading... 0 2024-07-15 10:35:14.703178\n",
      "{} : Completed file 2024-07-15 10:35:14.856873\n",
      "File {} .///home/rbrain/data_agent/dataLG0429_prepared.csv\n",
      "loading... 0 2024-07-15 10:35:14.857922\n"
     ]
    },
    {
     "name": "stderr",
     "output_type": "stream",
     "text": [
      "/home/rbrain/miniconda3/envs/data_agent_test/lib/python3.12/site-packages/numpy/core/fromnumeric.py:59: FutureWarning: 'DataFrame.swapaxes' is deprecated and will be removed in a future version. Please use 'DataFrame.transpose' instead.\n",
      "  return bound(*args, **kwds)\n",
      "/home/rbrain/miniconda3/envs/data_agent_test/lib/python3.12/site-packages/numpy/core/fromnumeric.py:59: FutureWarning: 'DataFrame.swapaxes' is deprecated and will be removed in a future version. Please use 'DataFrame.transpose' instead.\n",
      "  return bound(*args, **kwds)\n"
     ]
    },
    {
     "name": "stdout",
     "output_type": "stream",
     "text": [
      "{} : Completed file 2024-07-15 10:35:14.997188\n",
      "File {} .///home/rbrain/data_agent/dataLG0429_prepared.csv\n",
      "loading... 0 2024-07-15 10:35:14.998257\n",
      "{} : Completed file 2024-07-15 10:35:15.186034\n",
      "File {} .///home/rbrain/data_agent/dataLG0429_prepared.csv\n",
      "loading... 0 2024-07-15 10:35:15.187090\n"
     ]
    },
    {
     "name": "stderr",
     "output_type": "stream",
     "text": [
      "/home/rbrain/miniconda3/envs/data_agent_test/lib/python3.12/site-packages/numpy/core/fromnumeric.py:59: FutureWarning: 'DataFrame.swapaxes' is deprecated and will be removed in a future version. Please use 'DataFrame.transpose' instead.\n",
      "  return bound(*args, **kwds)\n",
      "/home/rbrain/miniconda3/envs/data_agent_test/lib/python3.12/site-packages/numpy/core/fromnumeric.py:59: FutureWarning: 'DataFrame.swapaxes' is deprecated and will be removed in a future version. Please use 'DataFrame.transpose' instead.\n",
      "  return bound(*args, **kwds)\n"
     ]
    },
    {
     "name": "stdout",
     "output_type": "stream",
     "text": [
      "{} : Completed file 2024-07-15 10:35:15.334114\n",
      "File {} .///home/rbrain/data_agent/dataLG0429_prepared.csv\n",
      "loading... 0 2024-07-15 10:35:15.335187\n",
      "{} : Completed file 2024-07-15 10:35:15.479503\n",
      "File {} .///home/rbrain/data_agent/dataLG0429_prepared.csv\n",
      "loading... 0 2024-07-15 10:35:15.480540\n"
     ]
    },
    {
     "name": "stderr",
     "output_type": "stream",
     "text": [
      "/home/rbrain/miniconda3/envs/data_agent_test/lib/python3.12/site-packages/numpy/core/fromnumeric.py:59: FutureWarning: 'DataFrame.swapaxes' is deprecated and will be removed in a future version. Please use 'DataFrame.transpose' instead.\n",
      "  return bound(*args, **kwds)\n",
      "/home/rbrain/miniconda3/envs/data_agent_test/lib/python3.12/site-packages/numpy/core/fromnumeric.py:59: FutureWarning: 'DataFrame.swapaxes' is deprecated and will be removed in a future version. Please use 'DataFrame.transpose' instead.\n",
      "  return bound(*args, **kwds)\n"
     ]
    },
    {
     "name": "stdout",
     "output_type": "stream",
     "text": [
      "{} : Completed file 2024-07-15 10:35:15.712954\n",
      "File {} .///home/rbrain/data_agent/dataLG0429_prepared.csv\n",
      "loading... 0 2024-07-15 10:35:15.714019\n",
      "{} : Completed file 2024-07-15 10:35:15.890555\n",
      "File {} .///home/rbrain/data_agent/dataLG0429_prepared.csv\n",
      "loading... 0 2024-07-15 10:35:15.891612\n"
     ]
    },
    {
     "name": "stderr",
     "output_type": "stream",
     "text": [
      "/home/rbrain/miniconda3/envs/data_agent_test/lib/python3.12/site-packages/numpy/core/fromnumeric.py:59: FutureWarning: 'DataFrame.swapaxes' is deprecated and will be removed in a future version. Please use 'DataFrame.transpose' instead.\n",
      "  return bound(*args, **kwds)\n",
      "/home/rbrain/miniconda3/envs/data_agent_test/lib/python3.12/site-packages/numpy/core/fromnumeric.py:59: FutureWarning: 'DataFrame.swapaxes' is deprecated and will be removed in a future version. Please use 'DataFrame.transpose' instead.\n",
      "  return bound(*args, **kwds)\n"
     ]
    },
    {
     "name": "stdout",
     "output_type": "stream",
     "text": [
      "{} : Completed file 2024-07-15 10:35:16.055250\n",
      "File {} .///home/rbrain/data_agent/dataLG0429_prepared.csv\n",
      "loading... 0 2024-07-15 10:35:16.056298\n"
     ]
    },
    {
     "name": "stderr",
     "output_type": "stream",
     "text": [
      "/home/rbrain/miniconda3/envs/data_agent_test/lib/python3.12/site-packages/numpy/core/fromnumeric.py:59: FutureWarning: 'DataFrame.swapaxes' is deprecated and will be removed in a future version. Please use 'DataFrame.transpose' instead.\n",
      "  return bound(*args, **kwds)\n"
     ]
    },
    {
     "name": "stdout",
     "output_type": "stream",
     "text": [
      "{} : Completed file 2024-07-15 10:35:16.292107\n",
      "File {} .///home/rbrain/data_agent/dataLG0429_prepared.csv\n",
      "loading... 0 2024-07-15 10:35:16.293166\n"
     ]
    },
    {
     "name": "stderr",
     "output_type": "stream",
     "text": [
      "/home/rbrain/miniconda3/envs/data_agent_test/lib/python3.12/site-packages/numpy/core/fromnumeric.py:59: FutureWarning: 'DataFrame.swapaxes' is deprecated and will be removed in a future version. Please use 'DataFrame.transpose' instead.\n",
      "  return bound(*args, **kwds)\n"
     ]
    },
    {
     "name": "stdout",
     "output_type": "stream",
     "text": [
      "{} : Completed file 2024-07-15 10:35:16.531036\n",
      "File {} .///home/rbrain/data_agent/dataLG0429_prepared.csv\n",
      "loading... 0 2024-07-15 10:35:16.532092\n",
      "{} : Completed file 2024-07-15 10:35:16.706493\n",
      "File {} .///home/rbrain/data_agent/dataLG0429_prepared.csv\n",
      "loading... 0 2024-07-15 10:35:16.707543\n"
     ]
    },
    {
     "name": "stderr",
     "output_type": "stream",
     "text": [
      "/home/rbrain/miniconda3/envs/data_agent_test/lib/python3.12/site-packages/numpy/core/fromnumeric.py:59: FutureWarning: 'DataFrame.swapaxes' is deprecated and will be removed in a future version. Please use 'DataFrame.transpose' instead.\n",
      "  return bound(*args, **kwds)\n",
      "/home/rbrain/miniconda3/envs/data_agent_test/lib/python3.12/site-packages/numpy/core/fromnumeric.py:59: FutureWarning: 'DataFrame.swapaxes' is deprecated and will be removed in a future version. Please use 'DataFrame.transpose' instead.\n",
      "  return bound(*args, **kwds)\n"
     ]
    },
    {
     "name": "stdout",
     "output_type": "stream",
     "text": [
      "{} : Completed file 2024-07-15 10:35:16.867193\n"
     ]
    }
   ],
   "source": [
    "PyIngest(yaml_string=pyingest_yaml, dataframe=test_df)\n"
   ]
  },
  {
   "cell_type": "code",
   "execution_count": 8,
   "metadata": {},
   "outputs": [],
   "source": [
    "import warnings\n",
    "import json\n",
    "from langchain_community.graphs import Neo4jGraph\n",
    "\n",
    "with warnings.catch_warnings():\n",
    "    warnings.simplefilter('ignore')\n",
    "\n",
    "import textwrap\n",
    "\n",
    "NEO4J_USERNAME = \"neo4j\"\n",
    "NEO4J_DATABASE = 'neo4j'\n",
    "NEO4J_URI = 'neo4j+s://9bb7f8ec.databases.neo4j.io'\n",
    "NEO4J_PASSWORD = '6divqnk_LBw-7zrAsvxNXvVCirJwboIbfSnU0FSYkCw'\n",
    "\n",
    "kg = Neo4jGraph(\n",
    "    url=NEO4J_URI, username=NEO4J_USERNAME, password=NEO4J_PASSWORD, database=NEO4J_DATABASE\n",
    ")\n",
    "\n",
    "kg.refresh_schema()\n",
    "print(textwrap.fill(kg.schema, 60))\n",
    "schema=kg.schema"
   ]
  },
  {
   "cell_type": "code",
   "execution_count": 9,
   "metadata": {},
   "outputs": [
    {
     "ename": "NameError",
     "evalue": "name 'textwrap' is not defined",
     "output_type": "error",
     "traceback": [
      "\u001b[0;31m---------------------------------------------------------------------------\u001b[0m",
      "\u001b[0;31mNameError\u001b[0m                                 Traceback (most recent call last)",
      "Cell \u001b[0;32mIn[9], line 6\u001b[0m\n\u001b[1;32m      1\u001b[0m kg \u001b[38;5;241m=\u001b[39m Neo4jGraph(\n\u001b[1;32m      2\u001b[0m     url\u001b[38;5;241m=\u001b[39mNEO4J_URI, username\u001b[38;5;241m=\u001b[39mNEO4J_USERNAME, password\u001b[38;5;241m=\u001b[39mNEO4J_PASSWORD, database\u001b[38;5;241m=\u001b[39mNEO4J_DATABASE\n\u001b[1;32m      3\u001b[0m )\n\u001b[1;32m      5\u001b[0m kg\u001b[38;5;241m.\u001b[39mrefresh_schema()\n\u001b[0;32m----> 6\u001b[0m \u001b[38;5;28mprint\u001b[39m(\u001b[43mtextwrap\u001b[49m\u001b[38;5;241m.\u001b[39mfill(kg\u001b[38;5;241m.\u001b[39mschema, \u001b[38;5;241m60\u001b[39m))\n\u001b[1;32m      7\u001b[0m schema\u001b[38;5;241m=\u001b[39mkg\u001b[38;5;241m.\u001b[39mschema\n",
      "\u001b[0;31mNameError\u001b[0m: name 'textwrap' is not defined"
     ]
    }
   ],
   "source": []
  },
  {
   "cell_type": "code",
   "execution_count": null,
   "metadata": {},
   "outputs": [],
   "source": []
  }
 ],
 "metadata": {
  "kernelspec": {
   "display_name": "data_agent_test",
   "language": "python",
   "name": "python3"
  },
  "language_info": {
   "codemirror_mode": {
    "name": "ipython",
    "version": 3
   },
   "file_extension": ".py",
   "mimetype": "text/x-python",
   "name": "python",
   "nbconvert_exporter": "python",
   "pygments_lexer": "ipython3",
   "version": "3.12.4"
  }
 },
 "nbformat": 4,
 "nbformat_minor": 2
}
